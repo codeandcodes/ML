{
 "cells": [
  {
   "cell_type": "code",
   "execution_count": 30,
   "metadata": {},
   "outputs": [
    {
     "data": {
      "text/plain": [
       "array([[42, 48, 54]])"
      ]
     },
     "execution_count": 30,
     "metadata": {},
     "output_type": "execute_result"
    }
   ],
   "source": [
    "import numpy as np\n",
    "from numpy import einsum\n",
    "\n",
    "# Create some random arrays\n",
    "aa = np.array([1, 2, 3])\n",
    "a = np.array([[1, 2, 3]])\n",
    "b = np.array([[4, 5, 6]])\n",
    "\n",
    "ab = np.array([[1, 2, 3], [4, 5, 6]])\n",
    "c = np.array([[7], [8], [9]])\n",
    "abc = np.array([[1, 2, 3], [4, 5, 6], [7, 8, 9]])\n",
    "# print(a)\n",
    "# print(b)\n",
    "# print(c)\n",
    "\n",
    "# inner product (this is the dot product)\n",
    "# print(np.inner(a,b)) # 32 = 1*4 + 2*5 + 3*6\n",
    "# print(np.inner(a,c)) # error because the shapes are not aligned for the dot product\n",
    "# print(np.inner(a,c.T)) # 50 = 1*7 + 2*8 + 3*9\n",
    "\n",
    "# outer product (this is the tensor product)\n",
    "np.outer(a,b)\n",
    "\n",
    "# np.einsum('ij',a)   # [[1,2,3]] a view\n",
    "# np.einsum('i', aa)  # [1,2,3] a view\n",
    "# np.einsum('ij->', a)# 6 (omitting a letter from -> means sum over it)\n",
    "\n",
    "# np.einsum('i,i->i', aa, aa) # [1,4,9] element-wise multiplication \n",
    "# np.einsum('i,i', aa, aa) # 14 dot product\n",
    "# np.einsum('i,j->ij',aa,aa) # [[1,2,3],[2,4,6],[3,6,9]] outer product\n",
    "\n",
    "# ab is a 2x3 matrix\n",
    "# c is a 3x1 matrix\n",
    "# np.einsum('ij', ab) # review the matrix\n",
    "# np.einsum('ji', ab) # transpose the matrix\n",
    "# np.einsum('ii->i',ab) # error if ab is not square\n",
    "# np.einsum('ii->i',abc) # return main diagonal [1,5,9]\n",
    "# np.einsum('ii', abc) # return sum of main diagonal 15\n",
    "# np.einsum('ij->', ab) # 21 sum everything to a scalar\n",
    "# np.einsum('ij->j', ab) # [5,7,9] sum everything to a vector, along columns, essentially reducing rows\n",
    "# np.einsum('ij->i', ab) # [6, 15] sum everything to a vector, along rows\n",
    "\n",
    "# ab = [[1,2,3],[4,5,6]] 2x3\n",
    "# c = [[7],[8],[9]] 1x3\n",
    "# np.einsum('ij,kj', ab, c) # [[50],[122],[194]] matrix multiplication\n",
    "\n",
    "# a = [[1,2,3]] 1x3\n",
    "# c = [[7],[8],[9]] 3x1\n",
    "np.einsum('ij,kj',a,c) # sum over j to get 6, then multiply by c to get 6*7, 6*8, 6*9"
   ]
  }
 ],
 "metadata": {
  "kernelspec": {
   "display_name": "kaggle",
   "language": "python",
   "name": "python3"
  },
  "language_info": {
   "codemirror_mode": {
    "name": "ipython",
    "version": 3
   },
   "file_extension": ".py",
   "mimetype": "text/x-python",
   "name": "python",
   "nbconvert_exporter": "python",
   "pygments_lexer": "ipython3",
   "version": "3.11.4"
  }
 },
 "nbformat": 4,
 "nbformat_minor": 2
}
