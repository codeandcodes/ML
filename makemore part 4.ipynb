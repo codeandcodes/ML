{
 "cells": [
  {
   "cell_type": "markdown",
   "metadata": {},
   "source": [
    "# Makemore Part 4"
   ]
  },
  {
   "cell_type": "markdown",
   "metadata": {},
   "source": [
    "Understand backprop - \n",
    "you will need to understand how it works under the ood if you're wanting to debug it\n",
    "examples\n",
    "- case of dead neurons\n",
    "- exploding or vanishing gradients\n",
    "- clip loss of outlier, you are setting its gradient to zero\n",
    "\n",
    "karpathy.medium.com \n"
   ]
  },
  {
   "cell_type": "code",
   "execution_count": 3,
   "metadata": {},
   "outputs": [],
   "source": [
    "\n",
    "import torch\n",
    "import torch.nn.functional as F\n",
    "import matplotlib.pyplot as plt\n",
    "%matplotlib inline"
   ]
  },
  {
   "cell_type": "code",
   "execution_count": 4,
   "metadata": {},
   "outputs": [
    {
     "data": {
      "text/plain": [
       "['emma', 'olivia', 'ava', 'isabella', 'sophia', 'charlotte', 'mia', 'amelia']"
      ]
     },
     "execution_count": 4,
     "metadata": {},
     "output_type": "execute_result"
    }
   ],
   "source": [
    "words = open('names.txt','r').read().splitlines()\n",
    "words[:8]"
   ]
  },
  {
   "cell_type": "code",
   "execution_count": 5,
   "metadata": {},
   "outputs": [
    {
     "name": "stdout",
     "output_type": "stream",
     "text": [
      "{1: 'a', 2: 'b', 3: 'c', 4: 'd', 5: 'e', 6: 'f', 7: 'g', 8: 'h', 9: 'i', 10: 'j', 11: 'k', 12: 'l', 13: 'm', 14: 'n', 15: 'o', 16: 'p', 17: 'q', 18: 'r', 19: 's', 20: 't', 21: 'u', 22: 'v', 23: 'w', 24: 'x', 25: 'y', 26: 'z', 0: '.'}\n"
     ]
    }
   ],
   "source": [
    "chars = sorted(list(set(''.join(words))))\n",
    "stoi = {s:i+1 for i,s in enumerate(chars)}\n",
    "stoi['.'] = 0\n",
    "itos = {i:s for s,i in stoi.items()}\n",
    "print(itos)"
   ]
  },
  {
   "cell_type": "code",
   "execution_count": 6,
   "metadata": {},
   "outputs": [
    {
     "name": "stdout",
     "output_type": "stream",
     "text": [
      "torch.Size([182625, 3]) torch.Size([182625])\n",
      "torch.Size([22655, 3]) torch.Size([22655])\n",
      "torch.Size([22866, 3]) torch.Size([22866])\n"
     ]
    }
   ],
   "source": [
    "# is this a good model?\n",
    "# loss may get close to zero by increasing model size\n",
    "# if you try to evaluate on withheld names, loss can be high\n",
    "# so standard in the field is to split dataset into three splits\n",
    "# training, validation, test \n",
    "# 80%, 10%, 10%\n",
    "\n",
    "# 80% used to optimize model params\n",
    "# 10% used for hyperparams optimization \n",
    "# see which ones work best for validation split\n",
    "# 10% used for evaluating model at end\n",
    "# every tiem you evaluate your test loss, you're starting to train on test split\n",
    "# so only allowed to test on test split very few times, otherwise you risk overfitting to it\n",
    "block_size = 3\n",
    "\n",
    "# context length: how many characters do we take to predict the next one?\n",
    "def build_dataset(words):\n",
    "    X,Y=[],[] # x input to NN, Y labels\n",
    "    for w in words:\n",
    "        # print(w)\n",
    "        context = [0] * block_size\n",
    "        for ch in w + '.':\n",
    "            ix = stoi[ch]\n",
    "            X.append(context)     \n",
    "            Y.append(ix)\n",
    "            # print(context, ix)\n",
    "            # this context takes the second character til the end \n",
    "            # so always trims off the first character\n",
    "            context = context[1:] + [ix]\n",
    "\n",
    "    X = torch.tensor(X)\n",
    "    Y = torch.tensor(Y)\n",
    "    print(X.shape, Y.shape)\n",
    "    return X,Y\n",
    "\n",
    "import random\n",
    "random.seed(42)\n",
    "random.shuffle(words)\n",
    "n1 = int(0.8*len(words))\n",
    "n2 = int(0.9*len(words))\n",
    "\n",
    "Xtr, Ytr = build_dataset(words[:n1])\n",
    "Xdev, Ydev = build_dataset(words[n1:n2])\n",
    "Xtest, Ytest = build_dataset(words[n2:])"
   ]
  },
  {
   "cell_type": "code",
   "execution_count": 7,
   "metadata": {},
   "outputs": [
    {
     "name": "stdout",
     "output_type": "stream",
     "text": [
      "11897\n"
     ]
    }
   ],
   "source": [
    "# RESET part 2 with training data set\n",
    "Xtr # input data\n",
    "Ytr # labels\n",
    "g = torch.Generator().manual_seed(2147483647)\n",
    "vocab_size = 27\n",
    "hidden_layer_size = 200\n",
    "embed_dims = 10\n",
    "C = torch.randn((vocab_size,embed_dims), generator=g)\n",
    "W1 = torch.randn((block_size * embed_dims, hidden_layer_size), generator=g)\n",
    "b1 = torch.randn((hidden_layer_size,))\n",
    "W2 = torch.randn((hidden_layer_size, vocab_size), generator=g) * 0.01\n",
    "b2 = torch.randn((vocab_size,), generator=g) * 0\n",
    "parameters = [C,W1,b1,W2,b2]\n",
    "\n",
    "for p in parameters:\n",
    "    p.requires_grad = True\n",
    "\n",
    "print(sum(p.nelement() for p in parameters))"
   ]
  },
  {
   "cell_type": "code",
   "execution_count": 8,
   "metadata": {},
   "outputs": [
    {
     "name": "stdout",
     "output_type": "stream",
     "text": [
      "      0/ 200000: 3.296663\n"
     ]
    }
   ],
   "source": [
    "# set up neural network\n",
    "# single batch\n",
    "# loss doesn't go to zero, but ... predicts multiple values\n",
    "# so loss can never go to zero\n",
    "# this is also only a single batch, so 3481 parmaeters\n",
    "# easy to fit to this batch.\n",
    "\n",
    "# we want to randomly select a mini batch and forward and update on minibatch\n",
    "# better to have approximate gradient and take many steps\n",
    "# than exact gradient with fewer steps\n",
    "stepi = []\n",
    "lossi = []\n",
    "max_steps = 200000\n",
    "batch_size = 32\n",
    "for i in range(max_steps):\n",
    "    ix = torch.randint(0, Xtr.shape[0], (batch_size,))\n",
    "\n",
    "    # forward\n",
    "    emb = C[Xtr[ix]] \n",
    "    embcat = emb.view(-1,block_size * embed_dims)\n",
    "    hpreact = embcat @ W1 + b1\n",
    "    h1 = torch.tanh(hpreact)\n",
    "    logits = h1 @ W2 + b2\n",
    "    loss = F.cross_entropy(logits, Ytr[ix])\n",
    "    # print(loss)\n",
    "\n",
    "    # backward pass\n",
    "    for p in parameters:\n",
    "        p.grad = None\n",
    "    loss.backward()\n",
    "\n",
    "    # update, learning rate increases over time\n",
    "    # keep track of learning rates we use and look at \n",
    "    # losses that resulted\n",
    "    if i > 200000:\n",
    "        lr = 0.01\n",
    "    elif i > 100000:\n",
    "        lr = 0.05 # 1e-1 # lrs[i] # decay learning rate \n",
    "    else:\n",
    "        lr = 0.1\n",
    "    for p in parameters:\n",
    "        p.data += -lr * p.grad\n",
    "\n",
    "    # track stats\n",
    "    # lri.append(lre[i])\n",
    "    # lossi.append(loss.item())\n",
    "    stepi.append(i)\n",
    "    if i % 10000 == 0:\n",
    "        print(f'{i:7d}/{max_steps:7d}: {loss.item():4f}')\n",
    "    lossi.append(loss.log10().item())\n",
    "    break"
   ]
  },
  {
   "cell_type": "code",
   "execution_count": 9,
   "metadata": {},
   "outputs": [
    {
     "data": {
      "text/plain": [
       "[<matplotlib.lines.Line2D at 0x15327bb80>]"
      ]
     },
     "execution_count": 9,
     "metadata": {},
     "output_type": "execute_result"
    },
    {
     "data": {
      "image/png": "[encoded data removed]",
      "text/plain": [
       "<Figure size 640x480 with 1 Axes>"
      ]
     },
     "metadata": {},
     "output_type": "display_data"
    }
   ],
   "source": [
    "plt.plot(stepi, lossi)"
   ]
  },
  {
   "cell_type": "code",
   "execution_count": 10,
   "metadata": {},
   "outputs": [
    {
     "name": "stdout",
     "output_type": "stream",
     "text": [
      "training_loss 3.1805362701416016\n",
      "validation_loss 3.1789357662200928\n"
     ]
    }
   ],
   "source": [
    "# evaluate loss for TRAINING SEt\n",
    "@torch.no_grad()\n",
    "def print_loss():\n",
    "    emb = C[Xtr]\n",
    "    h = torch.tanh(emb.view(-1,block_size * embed_dims) @ W1 + b1)\n",
    "    logits = h @ W2 + b2\n",
    "    loss = F.cross_entropy(logits, Ytr)\n",
    "    print(\"training_loss\", loss.item())\n",
    "\n",
    "    # training and dev loss are about equal\n",
    "    # this means we can scale up the size we are underfitting.\n",
    "\n",
    "    # easiest way to do this is to scale up hidden layers\n",
    "    # evaluate loss for DEV SET\n",
    "    emb = C[Xdev]\n",
    "    h = torch.tanh(emb.view(-1,block_size * embed_dims) @ W1 + b1)\n",
    "    logits = h @ W2 + b2\n",
    "    loss = F.cross_entropy(logits, Ydev)\n",
    "    print(\"validation_loss\", loss.item())\n",
    "print_loss()"
   ]
  },
  {
   "cell_type": "code",
   "execution_count": 11,
   "metadata": {},
   "outputs": [
    {
     "name": "stdout",
     "output_type": "stream",
     "text": [
      "carpzhxqtb.\n",
      "hqvufkwmrpxqthtykhkcasskejrzhnbnfqpwsyhc.\n",
      "vgqeiu.\n",
      "rrmuqptcmziivduxleggphhbm.\n",
      "poin.\n",
      "qbqjtzsrlivwa.\n",
      "vvdbquwqzerogdjaryxixfkqeupiusdbwed.\n",
      "ecoia.\n",
      "gtlffhysflquhpagmbvdjhksyjipmqqosozewjcojqmwyojsfrenqkpfsadlnuo.\n",
      "zoebsvkoiazhrynhg.\n",
      "opklhynrxah.\n",
      "xqioboqbrrbvbwdn.\n",
      "apyqmuitjgbvfpzpddgpycsislqwkkmcrnzauqnljydrk.\n",
      "kvweskattmzamdtevl.\n",
      "ky.\n",
      "adyctoorowooktbymomokfbfcj.\n",
      "zolndzcs.\n",
      "au.\n",
      "eoaiunqqeroqci.\n",
      "icjzykbadykgluclconqzyzdjokhnlhjjqsxmuadmtjhvtoiawlwuw.\n"
     ]
    }
   ],
   "source": [
    "# Sample from model\n",
    "\n",
    "g = torch.Generator().manual_seed(2147483647 + 10)\n",
    "\n",
    "for _ in range(20):\n",
    "    out = []\n",
    "    context = [0] * block_size\n",
    "    while True:\n",
    "        emb = C[torch.tensor([context])] # (3,block_size, d)\n",
    "        h = torch.tanh(emb.view(1,-1) @ W1 + b1)\n",
    "        logits = h @ W2 + b2\n",
    "        probs = F.softmax(logits, dim=1)\n",
    "        ix = torch.multinomial(probs, num_samples=1, generator=g).item()\n",
    "        context = context[1:] + [ix]\n",
    "        out.append(ix)\n",
    "        if ix == 0:\n",
    "            break\n",
    "    print(''.join(itos[i] for i in out))"
   ]
  },
  {
   "cell_type": "code",
   "execution_count": 12,
   "metadata": {},
   "outputs": [
    {
     "data": {
      "text/plain": [
       "tensor(3.2958)"
      ]
     },
     "execution_count": 12,
     "metadata": {},
     "output_type": "execute_result"
    }
   ],
   "source": [
    "# PROBLEM 1\n",
    "# first, we can figure out that initialization is bad\n",
    "# because loss is around 27 to start. but we don't believe any character\n",
    "# is more likely than any other. this rapidly comes down to 1 or 2\n",
    "\n",
    "# in training of NN, it's almost always the case you will have an idea of \n",
    "# what loss to expect at initialization\n",
    "\n",
    "# we can calculate this\n",
    "# at init: 27 chars to come next for any training example\n",
    "# at init, no reason to believe anything is more likely than others\n",
    "# uniform distribution \n",
    "# prob for any char is ~ 1/27.0\n",
    "\n",
    "-torch.tensor(1/27.0).log()\n",
    "\n",
    "# so what is happening is that NN is creating prob dist that are very bad\n",
    "# then network is confidently wrong. this is what makes it very high loss\n",
    "\n",
    "# with more extreme values, you are more likely to be guessing the wrong value confidently\n",
    "# we want logits to be roughly zero when \n",
    "# or roughly equal to start\n",
    "\n",
    "# so how can we achieve logits that come out better?\n",
    "# don't add bias of random numbers\n",
    "\n",
    "# b2 = 0\n",
    "# h @ W2 - if we want logits small, scale down W2 by \n",
    "# h @ W2 * .1\n",
    "\n",
    "# why don't you want to set W2 to 0?\n",
    "# because you want some entropy\n",
    "# now loss doesn't look like hockey stick\n",
    "# loss is quite a bit improved. now to 2.15\n",
    "# training_loss 2.1070516109466553\n",
    "# validation_loss 2.1754932403564453"
   ]
  },
  {
   "cell_type": "code",
   "execution_count": 13,
   "metadata": {},
   "outputs": [
    {
     "data": {
      "image/png": "[encoded data removed]",
      "text/plain": [
       "<Figure size 640x480 with 1 Axes>"
      ]
     },
     "metadata": {},
     "output_type": "display_data"
    }
   ],
   "source": [
    "# PROBLEM 2\n",
    "# a deeper problem in initialization\n",
    "# logits are OK\n",
    "# problem is with values of h\n",
    "# activations of hidden states\n",
    "# roughly speaking, many values of h are 1 or -1\n",
    "# tanh is a squashing function. takes arbitrary numbers\n",
    "# into range of -1 to 1\n",
    "\n",
    "h1.shape\n",
    "plt.hist(h1.view(-1).tolist(),50);"
   ]
  },
  {
   "cell_type": "code",
   "execution_count": null,
   "metadata": {},
   "outputs": [
    {
     "data": {
      "image/png": "[encoded data removed]",
      "text/plain": [
       "<Figure size 640x480 with 1 Axes>"
      ]
     },
     "metadata": {},
     "output_type": "display_data"
    }
   ],
   "source": [
    "# this tanh is very very active. \n",
    "# we look at preactivations \n",
    "plt.hist(hpreact.view(-1).tolist(),50);\n",
    "\n",
    "# we see distribution of preactivations take numbers between -15 to 15\n",
    "# this is why everything is between -1 to 1, why so many values take on extreme values\n",
    "\n",
    "# why is this an issue?\n",
    "# if you have an intuitive sense of how these gradients flow thorugh the network\n",
    "# during backprop - you are flowing through the loss backwards\n",
    "# propagate through tanh, 200 neurons for each example\n",
    "# implements tanh backward pass is \n",
    "# tanh(self):\n",
    "# x = self.data\n",
    "# def backward\n",
    "    # (1 - t**2) * out.grad # t squaredi\n",
    "    # if t is 1 or t is -1, out.grad essentially STOPs\n",
    "    # if output is very close to 1 or -1, then changing input\n",
    "    # basically doesn't impact the output of tanh because it's in\n",
    "    # the flat area of the loss.\n",
    "    # the weights and biases don't impact loss and there is no influence\n",
    "    # the gradient **vanishes**\n",
    "    # when t is 0, out.grad is passed through\n",
    "    # the more you are in the flat tails, the more the gradient is squashed\n",
    "    # the amount it decreases is proportional to square \n",
    "\n",
    "# so the concern is if all the outputs are in the flat area\n",
    "# the gradients that are flowing through the network will get destroyed at this layer.\n",
    "\n",
    "# leaky relu will not suffer as much because it's not flat"
   ]
  },
  {
   "cell_type": "code",
   "execution_count": 54,
   "metadata": {},
   "outputs": [
    {
     "name": "stdout",
     "output_type": "stream",
     "text": [
      "11897\n"
     ]
    }
   ],
   "source": [
    "# Copied from above\n",
    "Xtr # input data\n",
    "Ytr # labels\n",
    "g = torch.Generator().manual_seed(2147483647)\n",
    "vocab_size = 27\n",
    "hidden_layer_size = 200\n",
    "embed_dims = 10\n",
    "C = torch.randn((vocab_size,embed_dims), generator=g)\n",
    "W1 = torch.randn((block_size * embed_dims, hidden_layer_size), generator=g) * (5/3) / (embed_dims * block_size)**0.5 # 0.2\n",
    "b1 = torch.randn((hidden_layer_size,)) * 0.01\n",
    "W2 = torch.randn((hidden_layer_size, vocab_size), generator=g) * 0.01\n",
    "b2 = torch.randn((vocab_size,), generator=g) * 0\n",
    "parameters = [C,W1,b1,W2,b2]\n",
    "\n",
    "for p in parameters:\n",
    "    p.requires_grad = True\n",
    "\n",
    "print(sum(p.nelement() for p in parameters))"
   ]
  },
  {
   "cell_type": "code",
   "execution_count": 55,
   "metadata": {},
   "outputs": [
    {
     "name": "stdout",
     "output_type": "stream",
     "text": [
      "      0/ 200000: 3.321971\n",
      "  10000/ 200000: 2.562582\n"
     ]
    },
    {
     "ename": "KeyboardInterrupt",
     "evalue": "",
     "output_type": "error",
     "traceback": [
      "\u001b[0;31m---------------------------------------------------------------------------\u001b[0m",
      "\u001b[0;31mKeyboardInterrupt\u001b[0m                         Traceback (most recent call last)",
      "Cell \u001b[0;32mIn[55], line 22\u001b[0m\n\u001b[1;32m     20\u001b[0m embcat \u001b[38;5;241m=\u001b[39m emb\u001b[38;5;241m.\u001b[39mview(\u001b[38;5;241m-\u001b[39m\u001b[38;5;241m1\u001b[39m,block_size \u001b[38;5;241m*\u001b[39m embed_dims)\n\u001b[1;32m     21\u001b[0m hpreact \u001b[38;5;241m=\u001b[39m embcat \u001b[38;5;241m@\u001b[39m W1 \u001b[38;5;241m+\u001b[39m b1\n\u001b[0;32m---> 22\u001b[0m h1 \u001b[38;5;241m=\u001b[39m \u001b[43mtorch\u001b[49m\u001b[38;5;241;43m.\u001b[39;49m\u001b[43mtanh\u001b[49m\u001b[43m(\u001b[49m\u001b[43mhpreact\u001b[49m\u001b[43m)\u001b[49m\n\u001b[1;32m     23\u001b[0m logits \u001b[38;5;241m=\u001b[39m h1 \u001b[38;5;241m@\u001b[39m W2 \u001b[38;5;241m+\u001b[39m b2\n\u001b[1;32m     24\u001b[0m loss \u001b[38;5;241m=\u001b[39m F\u001b[38;5;241m.\u001b[39mcross_entropy(logits, Ytr[ix])\n",
      "\u001b[0;31mKeyboardInterrupt\u001b[0m: "
     ]
    }
   ],
   "source": [
    "# set up neural network\n",
    "# single batch\n",
    "# loss doesn't go to zero, but ... predicts multiple values\n",
    "# so loss can never go to zero\n",
    "# this is also only a single batch, so 3481 parmaeters\n",
    "# easy to fit to this batch.\n",
    "\n",
    "# we want to randomly select a mini batch and forward and update on minibatch\n",
    "# better to have approximate gradient and take many steps\n",
    "# than exact gradient with fewer steps\n",
    "stepi = []\n",
    "lossi = []\n",
    "max_steps = 200000\n",
    "batch_size = 32\n",
    "for i in range(max_steps):\n",
    "    ix = torch.randint(0, Xtr.shape[0], (batch_size,))\n",
    "\n",
    "    # forward\n",
    "    emb = C[Xtr[ix]] \n",
    "    embcat = emb.view(-1,block_size * embed_dims)\n",
    "    hpreact = embcat @ W1 + b1\n",
    "    h1 = torch.tanh(hpreact)\n",
    "    logits = h1 @ W2 + b2\n",
    "    loss = F.cross_entropy(logits, Ytr[ix])\n",
    "    # print(loss)\n",
    "\n",
    "    # backward pass\n",
    "    for p in parameters:\n",
    "        p.grad = None\n",
    "    loss.backward()\n",
    "\n",
    "    # update, learning rate increases over time\n",
    "    # keep track of learning rates we use and look at \n",
    "    # losses that resulted\n",
    "    if i > 200000:\n",
    "        lr = 0.01\n",
    "    elif i > 100000:\n",
    "        lr = 0.05 # 1e-1 # lrs[i] # decay learning rate \n",
    "    else:\n",
    "        lr = 0.1\n",
    "    for p in parameters:\n",
    "        p.data += -lr * p.grad\n",
    "\n",
    "    # track stats\n",
    "    # lri.append(lre[i])\n",
    "    # lossi.append(loss.item())\n",
    "    stepi.append(i)\n",
    "    if i % 10000 == 0:\n",
    "        print(f'{i:7d}/{max_steps:7d}: {loss.item():4f}')\n",
    "    lossi.append(loss.log10().item())\n",
    "    "
   ]
  },
  {
   "cell_type": "code",
   "execution_count": 24,
   "metadata": {},
   "outputs": [
    {
     "data": {
      "image/png": "[encoded data removed]",
      "text/plain": [
       "<Figure size 640x480 with 1 Axes>"
      ]
     },
     "metadata": {},
     "output_type": "display_data"
    }
   ],
   "source": [
    "# compare the shape of h1 now to before and you can see that it's very different in terms of shape, with most values falling around 0\n",
    "\n",
    "h1.shape\n",
    "plt.hist(h1.view(-1).tolist(),50);\n",
    "\n",
    "# hist"
   ]
  },
  {
   "cell_type": "code",
   "execution_count": 25,
   "metadata": {},
   "outputs": [
    {
     "data": {
      "image/png": "[encoded data removed]",
      "text/plain": [
       "<Figure size 640x480 with 1 Axes>"
      ]
     },
     "metadata": {},
     "output_type": "display_data"
    }
   ],
   "source": [
    "plt.hist(hpreact.view(-1).tolist(),50);"
   ]
  },
  {
   "cell_type": "code",
   "execution_count": 26,
   "metadata": {},
   "outputs": [
    {
     "data": {
      "text/plain": [
       "<matplotlib.image.AxesImage at 0x16afbae00>"
      ]
     },
     "execution_count": 26,
     "metadata": {},
     "output_type": "execute_result"
    },
    {
     "data": {
      "image/png": "[encoded data removed]",
      "text/plain": [
       "<Figure size 2000x1000 with 1 Axes>"
      ]
     },
     "metadata": {},
     "output_type": "display_data"
    }
   ],
   "source": [
    "plt.figure(figsize=(20,10))\n",
    "plt.imshow(h1.abs() > 0.99, cmap='gray', interpolation='nearest')"
   ]
  },
  {
   "cell_type": "code",
   "execution_count": 28,
   "metadata": {},
   "outputs": [
    {
     "name": "stdout",
     "output_type": "stream",
     "text": [
      "training_loss 2.0695881843566895\n",
      "validation_loss 2.1435439586639404\n"
     ]
    }
   ],
   "source": [
    "# Loss Log - rerun with new initialized values\n",
    "\n",
    "print_loss()\n",
    "\n",
    "# w/improvement of W2 and b2\n",
    "# fix softmax confidently wrong\n",
    "# loss is quite a bit improved. now to 2.15\n",
    "# training_loss 2.1070516109466553\n",
    "# validation_loss 2.1754932403564453\n",
    "\n",
    "# w/improvement of W1 and b1\n",
    "# fix tanh layer too saturated at init\n",
    "# training_loss 2.0695881843566895\n",
    "# validation_loss 2.1435439586639404 \n",
    "#\n",
    "\n",
    "# these problems tend to stack up, can get to the place where training doesn't happen at all\n",
    "# (not forgiving to these errors) as the depth of the NN increases\n"
   ]
  },
  {
   "cell_type": "code",
   "execution_count": 33,
   "metadata": {},
   "outputs": [
    {
     "name": "stdout",
     "output_type": "stream",
     "text": [
      "tensor(-0.0060) tensor(0.9944)\n",
      "tensor(0.0011) tensor(1.0175)\n"
     ]
    },
    {
     "data": {
      "image/png": "[encoded data removed]",
      "text/plain": [
       "<Figure size 2000x500 with 2 Axes>"
      ]
     },
     "metadata": {},
     "output_type": "display_data"
    }
   ],
   "source": [
    "# now we have a lot of magic numbers. How do we set this if there are lots of layers?\n",
    "\n",
    "x = torch.randn(1000, 10)\n",
    "w = torch.randn(10, 200) / 10**0.5\n",
    "y = x @ w\n",
    "print(x.mean(), x.std())\n",
    "print(y.mean(), y.std())\n",
    "plt.figure(figsize=(20,5))\n",
    "plt.subplot(121)\n",
    "plt.hist(x.view(-1).tolist(), 50, density=True);\n",
    "plt.subplot(122)\n",
    "plt.hist(y.view(-1).tolist(), 50, density=True);\n",
    "\n",
    "# the std deviation has grown to 3, this gaussian is expanding from the input.\n",
    "# we don't want this, we want essentially unit gaussian throughout the NN\n",
    "# how do we scale these to remain a gaussian?\n",
    "\n",
    "# outputs in number y as we scale up take more extreme values\n",
    "# what do you multiple to exactly preserve std dev = 1?\n",
    "# you are supposed to divide by teh sqrt of the fan in\n",
    "# the number of inputs \n",
    "\n",
    "# how do you initialize weights to stay consistent.\n",
    "# Kaiming He - deliving deep into rectifiers.\n",
    "# Study ReLU and PReLU, analysis is very similar.\n",
    "# for them ReLU is a squashing function where all negative numbers are clamped to 0, pos numbers are passthrough\n",
    "# because you throw away half the distribution, you have to compensate with sqrt 1/fan-in \n",
    "# they had to multiply by 2 because ReLU throws away half the distribution.\n",
    "# this paper also studied the back propogation case\n",
    "# what they find here if you properly initialize forward pass, the backwards passes properly initialize as well\n",
    "# up to a certain constant\n",
    "\n",
    "# torch.nn.init.kaiming_normal(tensor, a=0, mode='fan_in', nonlinearity='leaky_relu')\n",
    "# mode: normalie the activations or the gradients to always be gaussian normal\n",
    "# paper finds this doesn't mater too much, so people leave it as fan_in\n",
    "# pass in nonlinearity - you will get slightly different gain depending on values\n",
    "\n",
    "# why do you need gain on top of the initialization?\n",
    "# because tanh is a contractive operation\n",
    "# you take values and squash it\n",
    "# tanh takes the tails and squeeze them in\n",
    "# to fight the squeezing in, you need to renormalize everything to std dev\n",
    "\n",
    "# about 7 years ago when this paper was written, had to be very careful about activatiosn and ranges\n",
    "# and scrutinizing of non-linearities, everything was finicky and fragile, esp if NN is deep\n",
    "# modern innovations have made things more stable and well-behaved\n",
    "\n",
    "# such as residual connections\n",
    "# use of normalization layers such as batch, group, layer normalization\n",
    "# better optimizers than stochastic gradient descent (RMSprop and ADAM)\n",
    "# these make it less important to calculate the initialization of the NN\n",
    "\n",
    "# in practice, generally normalize by sqrt of the fan in\n",
    "\n"
   ]
  },
  {
   "cell_type": "code",
   "execution_count": 36,
   "metadata": {},
   "outputs": [
    {
     "data": {
      "text/plain": [
       "tensor(0.2010)"
      ]
     },
     "execution_count": 36,
     "metadata": {},
     "output_type": "execute_result"
    }
   ],
   "source": [
    "(torch.randn(10000 ) * 0.2).std()"
   ]
  },
  {
   "cell_type": "code",
   "execution_count": 37,
   "metadata": {},
   "outputs": [
    {
     "data": {
      "text/plain": [
       "0.3042903097250923"
      ]
     },
     "execution_count": 37,
     "metadata": {},
     "output_type": "execute_result"
    }
   ],
   "source": [
    "# multiply by gain, which for tanh is 5/3\n",
    "(5/3) / (embed_dims * block_size)**0.5"
   ]
  },
  {
   "cell_type": "code",
   "execution_count": 40,
   "metadata": {},
   "outputs": [
    {
     "name": "stdout",
     "output_type": "stream",
     "text": [
      "training_loss 2.069835901260376\n",
      "validation_loss 2.1448299884796143\n"
     ]
    }
   ],
   "source": [
    "# Loss Log - rerun with new initialized values\n",
    "\n",
    "print_loss()\n",
    "\n",
    "# w/improvement of W2 and b2\n",
    "# fix softmax confidently wrong\n",
    "# loss is quite a bit improved. now to 2.15\n",
    "# training_loss 2.1070516109466553\n",
    "# validation_loss 2.1754932403564453\n",
    "\n",
    "# w/improvement of W1 and b1\n",
    "# fix tanh layer too saturated at init\n",
    "# training_loss 2.0695881843566895\n",
    "# validation_loss 2.1435439586639404 \n",
    "#\n",
    "\n",
    "# w/kaiming loss\n",
    "# training_loss 2.069835901260376\n",
    "# validation_loss 2.1448299884796143\n"
   ]
  },
  {
   "cell_type": "markdown",
   "metadata": {},
   "source": [
    "# Batch Normalization"
   ]
  },
  {
   "cell_type": "code",
   "execution_count": null,
   "metadata": {},
   "outputs": [],
   "source": [
    "# important enhancement that allowed training of NNs more reliably\n",
    "# basically jusit worked"
   ]
  },
  {
   "cell_type": "code",
   "execution_count": 41,
   "metadata": {},
   "outputs": [
    {
     "data": {
      "text/plain": [
       "torch.Size([32, 200])"
      ]
     },
     "execution_count": 41,
     "metadata": {},
     "output_type": "execute_result"
    }
   ],
   "source": [
    "# we want activations at initilaization to be roughly gaussian\n",
    "# we have hidden states and want them to be roughly gaussian.\n",
    "# why not just normalize hidden states to be roughly gaussian?\n",
    "\n",
    "# standardizing hidden states to be gaussian is differentiable\n",
    "# if you like gaussian states in your network, you can just nromalize them to be unit gaussian\n",
    "\n",
    "hpreach = embcat @ W1 + b1 # we want this to be roughly gaussian\n",
    "# standardize these activations to be roughly gaussian\n",
    "hpreact.shape"
   ]
  },
  {
   "cell_type": "code",
   "execution_count": 49,
   "metadata": {},
   "outputs": [
    {
     "name": "stdout",
     "output_type": "stream",
     "text": [
      "12297\n"
     ]
    }
   ],
   "source": [
    "hpreact.mean(0, keepdim=True).shape\n",
    "\n",
    "# subtract mean and divide by std dev\n",
    "hpreact - hpreact.mean(0, keepdim=True) / hpreact.std(0, keepdim=True)\n",
    "\n",
    "# what this does is every neuron and firing rate is exactly unit gaussian over batch\n",
    "# that's why it's called batch normalization\n",
    "\n",
    "# we could in principle train this, but we won't get a very good result\n",
    "# the reason we want these to be roughly gaussian but only at initialization.\n",
    "# we want NN to move this around (make more diffuse or sharp) to make some tanh neurons more trigger happy\n",
    "\n",
    "# in addition to this idea to std activations, we have to also introduce scale and shift\n",
    "# additionally scale by some gain and offset by some bias to get final output\n",
    "bngain = torch.ones((1, hidden_layer_size)) # batch normal gain, shape of 1, n_hidden\n",
    "bnbias = torch.zeros((1, hidden_layer_size))\n",
    "\n",
    "hpreact = bngain * (hpreact - hpreact.mean(0, keepdim=True) / hpreact.std(0, keepdim=True)) + bnbias\n",
    "\n",
    "# we'll be able to backprop bngain and bnbias to do wahtever we want\n",
    "# include these in paramts of the NN\n",
    "\n"
   ]
  },
  {
   "cell_type": "code",
   "execution_count": 58,
   "metadata": {},
   "outputs": [
    {
     "name": "stdout",
     "output_type": "stream",
     "text": [
      "12297\n"
     ]
    }
   ],
   "source": [
    "# Copied from above\n",
    "Xtr # input data\n",
    "Ytr # labels\n",
    "g = torch.Generator().manual_seed(2147483647)\n",
    "vocab_size = 27\n",
    "hidden_layer_size = 200\n",
    "embed_dims = 10\n",
    "C = torch.randn((vocab_size,embed_dims), generator=g)\n",
    "W1 = torch.randn((block_size * embed_dims, hidden_layer_size), generator=g) * (5/3) / (embed_dims * block_size)**0.5 # 0.2\n",
    "b1 = torch.randn((hidden_layer_size,)) * 0.01\n",
    "W2 = torch.randn((hidden_layer_size, vocab_size), generator=g) * 0.01\n",
    "b2 = torch.randn((vocab_size,), generator=g) * 0\n",
    "bngain = torch.ones((1, hidden_layer_size)) # batch normal gain, shape of 1, n_hidden\n",
    "bnbias = torch.zeros((1, hidden_layer_size))\n",
    "parameters = [C,W1,b1,W2,b2,bngain,bnbias]\n",
    "\n",
    "for p in parameters:\n",
    "    p.requires_grad = True\n",
    "\n",
    "print(sum(p.nelement() for p in parameters))"
   ]
  },
  {
   "cell_type": "code",
   "execution_count": 61,
   "metadata": {},
   "outputs": [
    {
     "name": "stdout",
     "output_type": "stream",
     "text": [
      "      0/ 200000: 3.309246\n",
      "  10000/ 200000: 2.717775\n",
      "  20000/ 200000: 2.195012\n",
      "  30000/ 200000: 1.899718\n",
      "  40000/ 200000: 2.108541\n",
      "  50000/ 200000: 1.831086\n",
      "  60000/ 200000: 2.393445\n",
      "  70000/ 200000: 2.270220\n",
      "  80000/ 200000: 2.070730\n",
      "  90000/ 200000: 2.381815\n",
      " 100000/ 200000: 2.476407\n",
      " 110000/ 200000: 2.111832\n",
      " 120000/ 200000: 2.019737\n",
      " 130000/ 200000: 2.133682\n",
      " 140000/ 200000: 2.245491\n",
      " 150000/ 200000: 2.002614\n",
      " 160000/ 200000: 2.247063\n",
      " 170000/ 200000: 2.275235\n",
      " 180000/ 200000: 2.229887\n",
      " 190000/ 200000: 2.279107\n"
     ]
    }
   ],
   "source": [
    "# set up neural network\n",
    "# single batch\n",
    "# loss doesn't go to zero, but ... predicts multiple values\n",
    "# so loss can never go to zero\n",
    "# this is also only a single batch, so 3481 parmaeters\n",
    "# easy to fit to this batch.\n",
    "\n",
    "# we want to randomly select a mini batch and forward and update on minibatch\n",
    "# better to have approximate gradient and take many steps\n",
    "# than exact gradient with fewer steps\n",
    "stepi = []\n",
    "lossi = []\n",
    "max_steps = 200000\n",
    "batch_size = 32\n",
    "for i in range(max_steps):\n",
    "    ix = torch.randint(0, Xtr.shape[0], (batch_size,))\n",
    "    Xb, Yb = Xtr[ix], Ytr[ix]\n",
    "\n",
    "    # forward\n",
    "    emb = C[Xb] \n",
    "    embcat = emb.view(-1,block_size * embed_dims)\n",
    "    hpreact = embcat @ W1 + b1\n",
    "    # batch norm\n",
    "    hpreact = bngain * (hpreact - hpreact.mean(0, keepdim=True)) / hpreact.std(0, keepdim=True) + bnbias\n",
    "    h1 = torch.tanh(hpreact)\n",
    "    logits = h1 @ W2 + b2\n",
    "    loss = F.cross_entropy(logits, Yb)\n",
    "    # print(loss)\n",
    "\n",
    "    # backward pass\n",
    "    for p in parameters:\n",
    "        p.grad = None\n",
    "    loss.backward()\n",
    "\n",
    "    # update, learning rate increases over time\n",
    "    # keep track of learning rates we use and look at \n",
    "    # losses that resulted\n",
    "    if i > 200000:\n",
    "        lr = 0.01\n",
    "    elif i > 100000:\n",
    "        lr = 0.05 # 1e-1 # lrs[i] # decay learning rate \n",
    "    else:\n",
    "        lr = 0.1\n",
    "    for p in parameters:\n",
    "        p.data += -lr * p.grad\n",
    "\n",
    "    # track stats\n",
    "    # lri.append(lre[i])\n",
    "    # lossi.append(loss.item())\n",
    "    stepi.append(i)\n",
    "    if i % 10000 == 0:\n",
    "        print(f'{i:7d}/{max_steps:7d}: {loss.item():4f}')\n",
    "    lossi.append(loss.log10().item())\n",
    "    "
   ]
  },
  {
   "cell_type": "code",
   "execution_count": null,
   "metadata": {},
   "outputs": [
    {
     "name": "stdout",
     "output_type": "stream",
     "text": [
      "training_loss 2.0905706882476807\n",
      "validation_loss 2.138423442840576\n"
     ]
    }
   ],
   "source": [
    "# Loss Log - rerun with new initialized values\n",
    "\n",
    "# evaluate loss for TRAINING SEt\n",
    "@torch.no_grad()\n",
    "def print_loss():\n",
    "    emb = C[Xtr]\n",
    "    embcat = emb.view(-1,block_size * embed_dims)\n",
    "    hpreact = embcat @ W1 + b1\n",
    "    hpreact = bngain * (hpreact - bnmean) / hpreact.std(0, keepdim=True) + bnbias\n",
    "    h = torch.tanh(hpreact)\n",
    "\n",
    "    logits = h @ W2 + b2\n",
    "    loss = F.cross_entropy(logits, Ytr)\n",
    "    print(\"training_loss\", loss.item())\n",
    "\n",
    "    # training and dev loss are about equal\n",
    "    # this means we can scale up the size we are underfitting.\n",
    "\n",
    "    # easiest way to do this is to scale up hidden layers\n",
    "    # evaluate loss for DEV SET\n",
    "    emb = C[Xdev]\n",
    "    embcat = emb.view(-1,block_size * embed_dims)\n",
    "    hpreact = embcat @ W1 + b1\n",
    "    hpreact = bngain * (hpreact - hpreact.mean(0, keepdim=True)) / hpreact.std(0, keepdim=True) + bnbias\n",
    "    h = torch.tanh(hpreact)\n",
    "    logits = h @ W2 + b2\n",
    "    loss = F.cross_entropy(logits, Ydev)\n",
    "    print(\"validation_loss\", loss.item())\n",
    "print_loss()\n",
    "\n",
    "# w/improvement of W2 and b2\n",
    "# fix softmax confidently wrong\n",
    "# loss is quite a bit improved. now to 2.15\n",
    "# training_loss 2.1070516109466553\n",
    "# validation_loss 2.1754932403564453\n",
    "\n",
    "# w/improvement of W1 and b1\n",
    "# fix tanh layer too saturated at init\n",
    "# training_loss 2.0695881843566895\n",
    "# validation_loss 2.1435439586639404 \n",
    "#\n",
    "\n",
    "# w/kaiming loss\n",
    "# training_loss 2.069835901260376\n",
    "# validation_loss 2.1448299884796143\n",
    "\n",
    "# w/batch normalization\n",
    "# training_loss 2.0905706882476807\n",
    "# validation_loss 2.138423442840576\n"
   ]
  },
  {
   "cell_type": "code",
   "execution_count": null,
   "metadata": {},
   "outputs": [],
   "source": [
    "# there isn't much improvement here\n",
    "# but it's common to look at every linear layer or convolutions, customary to take these LL and append a batch norm right after it\n",
    "# this controls scale of activations throughout NN\n",
    "# doesn't require perfect mathematics for all these NN lego building blocks\n",
    "# significantly stabilizes the training\n",
    "\n",
    "# stability comes at a cost.\n",
    "# something strange and unnatural is happening.device\n",
    "# before calculate single value, activations and logits. this was deterministic\n",
    "# because of efficiency of training we used batches\n",
    "# batches were processed independently, but because of batch normalization\n",
    "# we are coupling these examples in forward and backward pass \n",
    "# any one logits are not just function of inputs / outputs, but also other samples that came in the batch\n",
    "\n",
    "# hpreact is going to change slightly depending on what other samples are in the batch\n",
    "# depending on what other samples come in the batch, hpreact will jitter because of the statistics\n",
    "# of the mean and std dev and logits are moving\n",
    "\n",
    "# this tends to be good in NN training, because it's kind of like a regularizer\n",
    "# adding entropy to batch. kind of a form of data augmentation\n",
    "# makes it harder to overfit\n",
    "\n",
    "# second order effect is that batch norm is a regularizer. this makes it harder for us to remove \n",
    "# the batch normalizer. No one likes it to be coupled in teh forward pass \n",
    "# leads to a lot of bugs \n",
    "# people have tried to deprecate the use of normalization and move to other that don't couple with batch\n",
    "\n",
    "# long story short, batch was first normalization layer to be introduced and happened to have regularizing effect\n",
    "# people have been trying to move to other but it's been hard because it works quite well\n",
    "# effective at controling activations"
   ]
  },
  {
   "cell_type": "code",
   "execution_count": 64,
   "metadata": {},
   "outputs": [
    {
     "name": "stdout",
     "output_type": "stream",
     "text": [
      "training_loss 2.0905706882476807\n",
      "validation_loss 2.138542890548706\n"
     ]
    }
   ],
   "source": [
    "# a weird thing - how do we get single answers out when we expect batches?\n",
    "# have an additional set that calculates the mean and std a single time\n",
    "\n",
    "with torch.no_grad():\n",
    "    # pass through training set\n",
    "    emb = C[Xtr]\n",
    "    embcat = emb.view(emb.shape[0], -1)\n",
    "    hpreact = embcat @ W1 + b1\n",
    "    bnmean = hpreact.mean(0, keepdim=True)\n",
    "    bnstd = hpreact.std(0, keepdim=True)\n",
    "\n",
    "@torch.no_grad()\n",
    "def print_loss():\n",
    "    emb = C[Xtr]\n",
    "    embcat = emb.view(-1,block_size * embed_dims)\n",
    "    hpreact = embcat @ W1 + b1\n",
    "    hpreact = bngain * (hpreact - bnmean) / bnstd + bnbias\n",
    "    h = torch.tanh(hpreact)\n",
    "\n",
    "    logits = h @ W2 + b2\n",
    "    loss = F.cross_entropy(logits, Ytr)\n",
    "    print(\"training_loss\", loss.item())\n",
    "\n",
    "    # training and dev loss are about equal\n",
    "    # this means we can scale up the size we are underfitting.\n",
    "\n",
    "    # easiest way to do this is to scale up hidden layers\n",
    "    # evaluate loss for DEV SET\n",
    "    emb = C[Xdev]\n",
    "    embcat = emb.view(-1,block_size * embed_dims)\n",
    "    hpreact = embcat @ W1 + b1\n",
    "    hpreact = bngain * (hpreact - bnmean) / bnstd + bnbias\n",
    "    h = torch.tanh(hpreact)\n",
    "    logits = h @ W2 + b2\n",
    "    loss = F.cross_entropy(logits, Ydev)\n",
    "    print(\"validation_loss\", loss.item())\n",
    "print_loss()\n"
   ]
  },
  {
   "cell_type": "code",
   "execution_count": 71,
   "metadata": {},
   "outputs": [
    {
     "name": "stdout",
     "output_type": "stream",
     "text": [
      "12097\n",
      "      0/ 200000: 3.323671\n",
      "  10000/ 200000: 2.021117\n",
      "  20000/ 200000: 2.275626\n",
      "  30000/ 200000: 1.968111\n",
      "  40000/ 200000: 2.076465\n",
      "  50000/ 200000: 1.956514\n",
      "  60000/ 200000: 1.933560\n",
      "  70000/ 200000: 2.668336\n",
      "  80000/ 200000: 2.031192\n",
      "  90000/ 200000: 2.301463\n",
      " 100000/ 200000: 1.891542\n",
      " 110000/ 200000: 2.349247\n",
      " 120000/ 200000: 1.932249\n",
      " 130000/ 200000: 2.526676\n",
      " 140000/ 200000: 2.328694\n",
      " 150000/ 200000: 1.826006\n",
      " 160000/ 200000: 2.048131\n",
      " 170000/ 200000: 2.469351\n",
      " 180000/ 200000: 2.117570\n",
      " 190000/ 200000: 1.928482\n"
     ]
    }
   ],
   "source": [
    "# Copied from above\n",
    "Xtr # input data\n",
    "Ytr # labels\n",
    "g = torch.Generator().manual_seed(2147483647)\n",
    "vocab_size = 27\n",
    "hidden_layer_size = 200\n",
    "embed_dims = 10\n",
    "C = torch.randn((vocab_size,embed_dims), generator=g)\n",
    "W1 = torch.randn((block_size * embed_dims, hidden_layer_size), generator=g) * (5/3) / (embed_dims * block_size)**0.5 # 0.2\n",
    "# b1 = torch.randn((hidden_layer_size,)) * 0.01\n",
    "W2 = torch.randn((hidden_layer_size, vocab_size), generator=g) * 0.01\n",
    "b2 = torch.randn((vocab_size,), generator=g) * 0\n",
    "bngain = torch.ones((1, hidden_layer_size)) # batch normal gain, shape of 1, n_hidden\n",
    "bnbias = torch.zeros((1, hidden_layer_size))\n",
    "bnmean_running = torch.ones((1, hidden_layer_size))\n",
    "bnstd_running = torch.zeros((1, hidden_layer_size))\n",
    "parameters = [C,W1,W2,b2,bngain,bnbias]\n",
    "\n",
    "for p in parameters:\n",
    "    p.requires_grad = True\n",
    "\n",
    "print(sum(p.nelement() for p in parameters))\n",
    "\n",
    "# authors also introduced idea to keep a running mean and std deviation\n",
    "stepi = []\n",
    "lossi = []\n",
    "max_steps = 200000\n",
    "batch_size = 32\n",
    "for i in range(max_steps):\n",
    "    ix = torch.randint(0, Xtr.shape[0], (batch_size,))\n",
    "    Xb, Yb = Xtr[ix], Ytr[ix]\n",
    "\n",
    "    # forward\n",
    "    emb = C[Xb] \n",
    "    embcat = emb.view(-1,block_size * embed_dims)\n",
    "    hpreact = embcat @ W1\n",
    "    # batch norm\n",
    "    bnmeani = hpreact.mean(0, keepdim=True)\n",
    "    bnstdi = hpreact.std(0, keepdim=True)\n",
    "    hpreact = bngain * (hpreact - bnmeani) / bnstdi + bnbias\n",
    "    # non-linearity\n",
    "    h1 = torch.tanh(hpreact)\n",
    "    logits = h1 @ W2 + b2\n",
    "    loss = F.cross_entropy(logits, Yb)\n",
    "    \n",
    "    # this update is outside of the gradient based optimization\n",
    "    # updating janky running mean manner. while network is training\n",
    "    # preactivations are changing, we are keeping track of typical std dev\n",
    "    with torch.no_grad():\n",
    "        bnmean_running = 0.999 * bnmean_running + 0.001 * bnmeani\n",
    "        bnstd_running = 0.999 * bnstd_running + 0.001 * bnstdi\n",
    "\n",
    "    # backward pass\n",
    "    for p in parameters:\n",
    "        p.grad = None\n",
    "    loss.backward()\n",
    "\n",
    "    # update, learning rate increases over time\n",
    "    # keep track of learning rates we use and look at \n",
    "    # losses that resulted\n",
    "    if i > 200000:\n",
    "        lr = 0.01\n",
    "    elif i > 100000:\n",
    "        lr = 0.05 # 1e-1 # lrs[i] # decay learning rate \n",
    "    else:\n",
    "        lr = 0.1\n",
    "    for p in parameters:\n",
    "        p.data += -lr * p.grad\n",
    "\n",
    "    # track stats\n",
    "    stepi.append(i)\n",
    "    if i % 10000 == 0:\n",
    "        print(f'{i:7d}/{max_steps:7d}: {loss.item():4f}')\n",
    "    lossi.append(loss.log10().item())"
   ]
  },
  {
   "cell_type": "code",
   "execution_count": 68,
   "metadata": {},
   "outputs": [
    {
     "data": {
      "text/plain": [
       "tensor([[-3.0795,  0.6527, -1.3972,  0.8402,  0.9960,  1.0252,  1.9811, -1.3854,\n",
       "          1.2361,  1.4696, -1.9303, -2.1102, -0.2891, -0.6550,  0.2609, -0.7097,\n",
       "          1.4590, -2.7233, -0.0133,  0.9239, -0.9583, -0.5221, -0.9768,  0.3826,\n",
       "          1.3733,  0.7046,  1.2487,  1.0525,  1.2435,  1.5748, -0.6240, -1.9036,\n",
       "         -0.3904,  0.5248, -0.0176, -1.2971, -1.6338,  0.8806, -0.4114,  1.2176,\n",
       "          0.4973, -1.6544, -0.3748,  0.1685,  1.5145,  1.1650,  1.6949, -0.2456,\n",
       "          2.5940,  1.2306,  1.0932,  0.3124,  2.2164,  1.1303,  1.2343, -1.9974,\n",
       "         -0.4040,  0.1005,  1.5299, -0.7845, -0.4820,  0.8150,  0.5294,  0.6423,\n",
       "          1.6542,  0.9351, -0.3423,  2.2170, -0.9986, -0.1152, -0.3367,  0.6751,\n",
       "         -0.4378, -0.9726, -2.8241,  0.2511,  1.4498, -0.4858,  0.6320,  1.0699,\n",
       "         -0.4107,  1.5893,  1.6823,  0.7557, -0.0774, -1.4600, -0.5041, -0.0246,\n",
       "          1.5617, -0.1504, -1.1016,  1.1891, -0.9274, -1.2330, -0.7191,  0.5282,\n",
       "          0.1469, -0.4594, -0.2190, -0.4257,  0.1741, -0.0501, -2.0255,  1.8958,\n",
       "          1.8062, -0.2726, -1.0945,  0.1982,  0.6977, -0.5765,  0.6980,  1.0230,\n",
       "         -0.4135,  1.7810,  2.3408,  2.0141,  0.7101,  1.2735,  0.4732, -1.1080,\n",
       "         -1.3735, -0.9673,  0.6396,  2.1490, -0.4514,  0.0470,  0.5342, -0.6942,\n",
       "         -0.4544, -0.8548,  2.8185, -0.5866,  0.4806,  2.0462,  0.9448,  1.2592,\n",
       "         -0.2180,  2.0917,  0.5978,  0.5434,  1.1137, -0.3554,  1.5712,  0.4793,\n",
       "          0.2656,  0.9991,  0.1966, -1.3203,  0.4860, -0.0122, -2.1559,  1.3966,\n",
       "          1.7947,  1.2391,  1.0708, -0.3281,  0.5677, -1.8019,  0.0327,  0.9274,\n",
       "          0.6315, -0.1692,  0.7516, -1.5645, -1.4632, -0.7941,  0.0241,  0.8537,\n",
       "         -1.9206,  0.7878,  0.5005, -2.2163, -0.0614,  0.4231, -0.6300,  0.0642,\n",
       "          0.9789, -1.1636,  0.4405, -1.4268,  1.5418,  0.6062,  1.0415, -1.0337,\n",
       "          0.5469, -0.2978, -0.7148, -1.3033,  2.5001, -0.4819,  0.9581,  1.9543,\n",
       "         -0.4816, -0.2294,  0.5295,  1.4873,  1.3582, -0.3664, -0.0524,  0.2302]])"
      ]
     },
     "execution_count": 68,
     "metadata": {},
     "output_type": "execute_result"
    }
   ],
   "source": [
    "# now during inference, use the estimated running mean of these hidden states\n",
    "\n",
    "with torch.no_grad():\n",
    "    # pass through training set\n",
    "    emb = C[Xtr]\n",
    "    embcat = emb.view(emb.shape[0], -1)\n",
    "    hpreact = embcat @ W1 + b1\n",
    "    bnmean = hpreact.mean(0, keepdim=True)\n",
    "    bnstd = hpreact.std(0, keepdim=True)\n",
    "\n",
    "bnmean"
   ]
  },
  {
   "cell_type": "code",
   "execution_count": 67,
   "metadata": {},
   "outputs": [
    {
     "data": {
      "text/plain": [
       "tensor([[-3.0778,  0.6809, -1.3876,  0.8189,  1.0000,  1.0386,  1.9458, -1.3538,\n",
       "          1.2029,  1.4489, -1.9656, -2.1274, -0.2814, -0.6799,  0.2229, -0.6941,\n",
       "          1.4509, -2.7091, -0.0332,  0.9160, -0.9441, -0.5305, -0.9464,  0.3885,\n",
       "          1.3723,  0.7213,  1.2360,  1.0386,  1.2220,  1.5583, -0.6215, -1.8966,\n",
       "         -0.3623,  0.5125, -0.0130, -1.3166, -1.6624,  0.8780, -0.3885,  1.2007,\n",
       "          0.4818, -1.6404, -0.3817,  0.1808,  1.4919,  1.1614,  1.7042, -0.2917,\n",
       "          2.6154,  1.2314,  1.1387,  0.2975,  2.1807,  1.1219,  1.2442, -1.9860,\n",
       "         -0.3908,  0.0959,  1.5513, -0.7499, -0.4700,  0.8283,  0.5330,  0.6848,\n",
       "          1.6379,  0.9375, -0.3351,  2.2136, -0.9991, -0.0954, -0.3465,  0.6548,\n",
       "         -0.4459, -0.9641, -2.8281,  0.2863,  1.4501, -0.5001,  0.6387,  1.0305,\n",
       "         -0.3858,  1.5794,  1.6683,  0.7781, -0.0658, -1.4866, -0.5001, -0.0208,\n",
       "          1.5976, -0.1716, -1.0906,  1.1741, -0.9193, -1.2155, -0.7030,  0.5410,\n",
       "          0.1505, -0.4807, -0.2183, -0.4033,  0.1610, -0.0512, -2.0308,  1.8778,\n",
       "          1.8085, -0.2875, -1.0892,  0.2382,  0.7005, -0.5625,  0.6693,  1.0225,\n",
       "         -0.4082,  1.7882,  2.3205,  2.0025,  0.6791,  1.2457,  0.4949, -1.1268,\n",
       "         -1.4053, -0.9595,  0.6345,  2.1553, -0.4603,  0.0570,  0.5521, -0.6975,\n",
       "         -0.4404, -0.8396,  2.8176, -0.5505,  0.4855,  2.0140,  0.9429,  1.2625,\n",
       "         -0.2425,  2.0780,  0.5746,  0.5672,  1.1244, -0.3413,  1.5705,  0.4764,\n",
       "          0.3021,  0.9590,  0.1840, -1.3360,  0.5021,  0.0138, -2.1206,  1.3662,\n",
       "          1.7487,  1.2373,  1.0741, -0.3311,  0.5681, -1.8003,  0.0272,  0.9197,\n",
       "          0.6074, -0.1822,  0.7811, -1.5767, -1.4784, -0.7982,  0.0126,  0.8441,\n",
       "         -1.9099,  0.7970,  0.5083, -2.2092, -0.0799,  0.4252, -0.6608,  0.0715,\n",
       "          0.9676, -1.1697,  0.4404, -1.4238,  1.5026,  0.5736,  1.0155, -1.0044,\n",
       "          0.5595, -0.3404, -0.7352, -1.3223,  2.5038, -0.4499,  1.0013,  1.9623,\n",
       "         -0.4551, -0.2603,  0.4995,  1.4935,  1.3597, -0.3652, -0.0161,  0.2041]])"
      ]
     },
     "execution_count": 67,
     "metadata": {},
     "output_type": "execute_result"
    }
   ],
   "source": [
    "bnmean_running"
   ]
  },
  {
   "cell_type": "code",
   "execution_count": 69,
   "metadata": {},
   "outputs": [
    {
     "name": "stdout",
     "output_type": "stream",
     "text": [
      "training_loss 2.086935520172119\n",
      "validation_loss 2.1289987564086914\n"
     ]
    }
   ],
   "source": [
    "# these are now fairly similar (bmean and bmean_running)\n",
    "# now we don't need a second stage\n",
    "# this is how batch norm in pytorch is implemented\n",
    "@torch.no_grad()\n",
    "def print_loss():\n",
    "    emb = C[Xtr]\n",
    "    embcat = emb.view(-1,block_size * embed_dims)\n",
    "    hpreact = embcat @ W1 + b1\n",
    "    hpreact = bngain * (hpreact - bnmean_running) / bnstd_running + bnbias\n",
    "    h = torch.tanh(hpreact)\n",
    "\n",
    "    logits = h @ W2 + b2\n",
    "    loss = F.cross_entropy(logits, Ytr)\n",
    "    print(\"training_loss\", loss.item())\n",
    "\n",
    "    # training and dev loss are about equal\n",
    "    # this means we can scale up the size we are underfitting.\n",
    "\n",
    "    # easiest way to do this is to scale up hidden layers\n",
    "    # evaluate loss for DEV SET\n",
    "    emb = C[Xdev]\n",
    "    embcat = emb.view(-1,block_size * embed_dims)\n",
    "    hpreact = embcat @ W1 + b1\n",
    "    hpreact = bngain * (hpreact - bnmean_running) / bnstd_running + bnbias\n",
    "    h = torch.tanh(hpreact)\n",
    "    logits = h @ W2 + b2\n",
    "    loss = F.cross_entropy(logits, Ydev)\n",
    "    print(\"validation_loss\", loss.item())\n",
    "print_loss()"
   ]
  },
  {
   "cell_type": "code",
   "execution_count": null,
   "metadata": {},
   "outputs": [],
   "source": [
    "# we're being wasteful here, because biases are being added then subtracted out.append\n",
    "# b1.grad is going to be zero.\n",
    "# you're better off just not using bias when you're using batch normalization\n",
    "# you have batch_normalizing bias instead of b1"
   ]
  },
  {
   "cell_type": "markdown",
   "metadata": {},
   "source": [
    "# summary\n",
    "\n",
    "We're using batch normalization to control the statistics of the activations in the NN. it's is common to sprinkle it in the NN, usually place it after layers that have multiplcationats (LL or convolutions). Batch normalization internally has parameters for gain and bias, and therse are trained with back prop, it also has buffers, running mean and running std dev, these are not trained using backprop, but computed via running mean.\n",
    "\n",
    "Really what this is doing is calculating the mean and std dev of the activations feeding into the BN layer, then centering this batch to be unit gaussian, then offsetting it and multiplying by the bngain and bnbias, keeping track of the inputs. This will later be used at inference so we don't have to re-esitimate mean and std afterwards. This allows us to forward individual examples at inference time."
   ]
  },
  {
   "cell_type": "markdown",
   "metadata": {},
   "source": [
    "ResNets in detail: note that image feeds into ResNet, many many layers of repeating structures, sequentially stacked in a NN.\n",
    "\n",
    "Code for this in series is called Bottleneck block. \n",
    "Init layer\n",
    "in forward, specify how NN acts with the inputs\n",
    "blocks are replicated and stacked serially which is what resnet is\n",
    "\n",
    "search: pytorch resnet "
   ]
  },
  {
   "cell_type": "code",
   "execution_count": 73,
   "metadata": {},
   "outputs": [
    {
     "data": {
      "text/plain": [
       "[1, 2, 3, 4, 5, 6, 7, 8]"
      ]
     },
     "execution_count": 73,
     "metadata": {},
     "output_type": "execute_result"
    }
   ],
   "source": [
    "n = [1,2,3,4,5,6,7,8,9]\n",
    "n[:-1]"
   ]
  }
 ],
 "metadata": {
  "kernelspec": {
   "display_name": "Python 3",
   "language": "python",
   "name": "python3"
  },
  "language_info": {
   "codemirror_mode": {
    "name": "ipython",
    "version": 3
   },
   "file_extension": ".py",
   "mimetype": "text/x-python",
   "name": "python",
   "nbconvert_exporter": "python",
   "pygments_lexer": "ipython3",
   "version": "3.10.9"
  }
 },
 "nbformat": 4,
 "nbformat_minor": 2
}
