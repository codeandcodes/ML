{
 "cells": [
  {
   "cell_type": "markdown",
   "metadata": {},
   "source": [
    "# Makemore Part 2"
   ]
  },
  {
   "cell_type": "code",
   "execution_count": 1,
   "metadata": {},
   "outputs": [],
   "source": [
    "\n",
    "import torch\n",
    "import torch.nn.functional as F\n",
    "import matplotlib.pyplot as plt\n",
    "%matplotlib inline"
   ]
  },
  {
   "cell_type": "code",
   "execution_count": 2,
   "metadata": {},
   "outputs": [
    {
     "data": {
      "text/plain": [
       "['emma', 'olivia', 'ava', 'isabella', 'sophia', 'charlotte', 'mia', 'amelia']"
      ]
     },
     "execution_count": 2,
     "metadata": {},
     "output_type": "execute_result"
    }
   ],
   "source": [
    "words = open('names.txt','r').read().splitlines()\n",
    "words[:8]"
   ]
  },
  {
   "cell_type": "code",
   "execution_count": 3,
   "metadata": {},
   "outputs": [
    {
     "name": "stdout",
     "output_type": "stream",
     "text": [
      "{1: 'a', 2: 'b', 3: 'c', 4: 'd', 5: 'e', 6: 'f', 7: 'g', 8: 'h', 9: 'i', 10: 'j', 11: 'k', 12: 'l', 13: 'm', 14: 'n', 15: 'o', 16: 'p', 17: 'q', 18: 'r', 19: 's', 20: 't', 21: 'u', 22: 'v', 23: 'w', 24: 'x', 25: 'y', 26: 'z', 0: '.'}\n"
     ]
    }
   ],
   "source": [
    "chars = sorted(list(set(''.join(words))))\n",
    "stoi = {s:i+1 for i,s in enumerate(chars)}\n",
    "stoi['.'] = 0\n",
    "itos = {i:s for s,i in stoi.items()}\n",
    "print(itos)"
   ]
  },
  {
   "cell_type": "code",
   "execution_count": 7,
   "metadata": {},
   "outputs": [
    {
     "name": "stdout",
     "output_type": "stream",
     "text": [
      "torch.Size([182580, 3]) torch.Size([182580])\n",
      "torch.Size([22767, 3]) torch.Size([22767])\n",
      "torch.Size([22799, 3]) torch.Size([22799])\n"
     ]
    }
   ],
   "source": [
    "# is this a good model?\n",
    "# loss may get close to zero by increasing model size\n",
    "# if you try to evaluate on withheld names, loss can be high\n",
    "# so standard in the field is to split dataset into three splits\n",
    "# training, validation, test \n",
    "# 80%, 10%, 10%\n",
    "\n",
    "# 80% used to optimize model params\n",
    "# 10% used for hyperparams optimization \n",
    "# see which ones work best for validation split\n",
    "# 10% used for evaluating model at end\n",
    "# every tiem you evaluate your test loss, you're starting to train on test split\n",
    "# so only allowed to test on test split very few times, otherwise you risk overfitting to it\n",
    "block_size = 3\n",
    "\n",
    "# context length: how many characters do we take to predict the next one?\n",
    "def build_dataset(words):\n",
    "    X,Y=[],[] # x input to NN, Y labels\n",
    "    for w in words:\n",
    "        # print(w)\n",
    "        context = [0] * block_size\n",
    "        for ch in w + '.':\n",
    "            ix = stoi[ch]\n",
    "            X.append(context)     \n",
    "            Y.append(ix)\n",
    "            # print(context, ix)\n",
    "            # this context takes the second character til the end \n",
    "            # so always trims off the first character\n",
    "            context = context[1:] + [ix]\n",
    "\n",
    "    X = torch.tensor(X)\n",
    "    Y = torch.tensor(Y)\n",
    "    print(X.shape, Y.shape)\n",
    "    return X,Y\n",
    "\n",
    "import random\n",
    "random.seed(42)\n",
    "random.shuffle(words)\n",
    "n1 = int(0.8*len(words))\n",
    "n2 = int(0.9*len(words))\n",
    "\n",
    "Xtr, Ytr = build_dataset(words[:n1])\n",
    "Xdev, Ydev = build_dataset(words[n1:n2])\n",
    "Xtest, Ytest = build_dataset(words[n2:])"
   ]
  },
  {
   "cell_type": "code",
   "execution_count": 39,
   "metadata": {},
   "outputs": [
    {
     "name": "stdout",
     "output_type": "stream",
     "text": [
      "11897\n"
     ]
    }
   ],
   "source": [
    "# RESET part 2 with training data set\n",
    "Xtr # input data\n",
    "Ytr # labels\n",
    "g = torch.Generator().manual_seed(2147483647)\n",
    "vocab_size = 27\n",
    "hidden_layer_size = 200\n",
    "embed_dims = 10\n",
    "C = torch.randn((vocab_size,embed_dims), generator=g)\n",
    "W1 = torch.randn((block_size * embed_dims, hidden_layer_size), generator=g)\n",
    "b1 = torch.randn((hidden_layer_size,))\n",
    "W2 = torch.randn((hidden_layer_size, vocab_size), generator=g) * 0.01\n",
    "b2 = torch.randn((vocab_size,), generator=g) * 0\n",
    "parameters = [C,W1,b1,W2,b2]\n",
    "\n",
    "for p in parameters:\n",
    "    p.requires_grad = True\n",
    "\n",
    "print(sum(p.nelement() for p in parameters))"
   ]
  },
  {
   "cell_type": "code",
   "execution_count": 40,
   "metadata": {},
   "outputs": [
    {
     "name": "stdout",
     "output_type": "stream",
     "text": [
      "      0/ 200000: 3.287246\n"
     ]
    }
   ],
   "source": [
    "# set up neural network\n",
    "# single batch\n",
    "# loss doesn't go to zero, but ... predicts multiple values\n",
    "# so loss can never go to zero\n",
    "# this is also only a single batch, so 3481 parmaeters\n",
    "# easy to fit to this batch.\n",
    "\n",
    "# we want to randomly select a mini batch and forward and update on minibatch\n",
    "# better to have approximate gradient and take many steps\n",
    "# than exact gradient with fewer steps\n",
    "stepi = []\n",
    "lossi = []\n",
    "max_steps = 200000\n",
    "batch_size = 32\n",
    "for i in range(max_steps):\n",
    "    ix = torch.randint(0, Xtr.shape[0], (batch_size,))\n",
    "\n",
    "    # forward\n",
    "    emb = C[Xtr[ix]] \n",
    "    embcat = emb.view(-1,block_size * embed_dims)\n",
    "    hpreact = embcat @ W1 + b1\n",
    "    h1 = torch.tanh(hpreact)\n",
    "    logits = h1 @ W2 + b2\n",
    "    loss = F.cross_entropy(logits, Ytr[ix])\n",
    "    # print(loss)\n",
    "\n",
    "    # backward pass\n",
    "    for p in parameters:\n",
    "        p.grad = None\n",
    "    loss.backward()\n",
    "\n",
    "    # update, learning rate increases over time\n",
    "    # keep track of learning rates we use and look at \n",
    "    # losses that resulted\n",
    "    if i > 200000:\n",
    "        lr = 0.01\n",
    "    elif i > 100000:\n",
    "        lr = 0.05 # 1e-1 # lrs[i] # decay learning rate \n",
    "    else:\n",
    "        lr = 0.1\n",
    "    for p in parameters:\n",
    "        p.data += -lr * p.grad\n",
    "\n",
    "    # track stats\n",
    "    # lri.append(lre[i])\n",
    "    # lossi.append(loss.item())\n",
    "    stepi.append(i)\n",
    "    if i % 10000 == 0:\n",
    "        print(f'{i:7d}/{max_steps:7d}: {loss.item():4f}')\n",
    "    lossi.append(loss.log10().item())\n",
    "    break"
   ]
  },
  {
   "cell_type": "code",
   "execution_count": 29,
   "metadata": {},
   "outputs": [
    {
     "data": {
      "text/plain": [
       "[<matplotlib.lines.Line2D at 0x13f7db580>]"
      ]
     },
     "execution_count": 29,
     "metadata": {},
     "output_type": "execute_result"
    },
    {
     "data": {
      "image/png": "[encoded data removed]",
      "text/plain": [
       "<Figure size 640x480 with 1 Axes>"
      ]
     },
     "metadata": {},
     "output_type": "display_data"
    }
   ],
   "source": [
    "plt.plot(stepi, lossi)"
   ]
  },
  {
   "cell_type": "code",
   "execution_count": 30,
   "metadata": {},
   "outputs": [
    {
     "name": "stdout",
     "output_type": "stream",
     "text": [
      "training_loss 2.1070516109466553\n",
      "validation_loss 2.1754932403564453\n"
     ]
    }
   ],
   "source": [
    "# evaluate loss for TRAINING SEt\n",
    "@torch.no_grad()\n",
    "def print_loss():\n",
    "    emb = C[Xtr]\n",
    "    h = torch.tanh(emb.view(-1,block_size * embed_dims) @ W1 + b1)\n",
    "    logits = h @ W2 + b2\n",
    "    loss = F.cross_entropy(logits, Ytr)\n",
    "    print(\"training_loss\", loss.item())\n",
    "\n",
    "    # training and dev loss are about equal\n",
    "    # this means we can scale up the size we are underfitting.\n",
    "\n",
    "    # easiest way to do this is to scale up hidden layers\n",
    "    # evaluate loss for DEV SET\n",
    "    emb = C[Xdev]\n",
    "    h = torch.tanh(emb.view(-1,block_size * embed_dims) @ W1 + b1)\n",
    "    logits = h @ W2 + b2\n",
    "    loss = F.cross_entropy(logits, Ydev)\n",
    "    print(\"validation_loss\", loss.item())\n",
    "print_loss()"
   ]
  },
  {
   "cell_type": "code",
   "execution_count": 31,
   "metadata": {},
   "outputs": [
    {
     "name": "stdout",
     "output_type": "stream",
     "text": [
      "carmahzabelle.\n",
      "khyrilli.\n",
      "tetylena.\n",
      "sand.\n",
      "mahutca.\n",
      "pesynci.\n",
      "geni.\n",
      "jermara.\n",
      "chriha.\n",
      "kaleigh.\n",
      "ham.\n",
      "jose.\n",
      "quint.\n",
      "sulie.\n",
      "alianni.\n",
      "waleen.\n",
      "dearini.\n",
      "jaxen.\n",
      "ivrat.\n",
      "emmedi.\n"
     ]
    }
   ],
   "source": [
    "# Sample from model\n",
    "\n",
    "g = torch.Generator().manual_seed(2147483647 + 10)\n",
    "\n",
    "for _ in range(20):\n",
    "    out = []\n",
    "    context = [0] * block_size\n",
    "    while True:\n",
    "        emb = C[torch.tensor([context])] # (3,block_size, d)\n",
    "        h = torch.tanh(emb.view(1,-1) @ W1 + b1)\n",
    "        logits = h @ W2 + b2\n",
    "        probs = F.softmax(logits, dim=1)\n",
    "        ix = torch.multinomial(probs, num_samples=1, generator=g).item()\n",
    "        context = context[1:] + [ix]\n",
    "        out.append(ix)\n",
    "        if ix == 0:\n",
    "            break\n",
    "    print(''.join(itos[i] for i in out))"
   ]
  },
  {
   "cell_type": "code",
   "execution_count": 23,
   "metadata": {},
   "outputs": [
    {
     "data": {
      "text/plain": [
       "tensor(3.2958)"
      ]
     },
     "execution_count": 23,
     "metadata": {},
     "output_type": "execute_result"
    }
   ],
   "source": [
    "# PROBLEM 1\n",
    "# first, we can figure out that initialization is bad\n",
    "# because loss is around 27 to start. but we don't believe any character\n",
    "# is more likely than any other. this rapidly comes down to 1 or 2\n",
    "\n",
    "# in training of NN, it's almost always the case you will have an idea of \n",
    "# what loss to expect at initialization\n",
    "\n",
    "# we can calculate this\n",
    "# at init: 27 chars to come next for any training example\n",
    "# at init, no reason to believe anything is more likely than others\n",
    "# uniform distribution \n",
    "# prob for any char is ~ 1/27.0\n",
    "\n",
    "-torch.tensor(1/27.0).log()\n",
    "\n",
    "# so what is happening is that NN is creating prob dist that are very bad\n",
    "# then network is confidently wrong. this is what makes it very high loss\n",
    "\n",
    "# with more extreme values, you are more likely to be guessing the wrong value confidently\n",
    "# we want logits to be roughly zero when \n",
    "# or roughly equal to start\n",
    "\n",
    "# so how can we achieve logits that come out better?\n",
    "# don't add bias of random numbers\n",
    "\n",
    "# b2 = 0\n",
    "# h @ W2 - if we want logits small, scale down W2 by \n",
    "# h @ W2 * .1\n",
    "\n",
    "# why don't you want to set W2 to 0?\n",
    "# because you want some entropy\n",
    "# now loss doesn't look like hockey stick\n",
    "# loss is quite a bit improved. now to 2.15\n",
    "# training_loss 2.1070516109466553\n",
    "# validation_loss 2.1754932403564453"
   ]
  },
  {
   "cell_type": "code",
   "execution_count": 41,
   "metadata": {},
   "outputs": [
    {
     "data": {
      "image/png": "[encoded data removed]",
      "text/plain": [
       "<Figure size 640x480 with 1 Axes>"
      ]
     },
     "metadata": {},
     "output_type": "display_data"
    }
   ],
   "source": [
    "# PROBLEM 2\n",
    "# a deeper problem in initialization\n",
    "# logits are OK\n",
    "# problem is with values of h\n",
    "# activations of hidden states\n",
    "# roughly speaking, many values of h are 1 or -1\n",
    "# tanh is a squashing function. takes arbitrary numbers\n",
    "# into range of -1 to 1\n",
    "\n",
    "h1.shape\n",
    "plt.hist(h1.view(-1).tolist(),50);"
   ]
  },
  {
   "cell_type": "code",
   "execution_count": 42,
   "metadata": {},
   "outputs": [
    {
     "data": {
      "image/png": "[encoded data removed]",
      "text/plain": [
       "<Figure size 640x480 with 1 Axes>"
      ]
     },
     "metadata": {},
     "output_type": "display_data"
    }
   ],
   "source": [
    "# this tanh is very very active. \n",
    "# we look at preactivations \n",
    "plt.hist(hpreact.view(-1).tolist(),50);\n",
    "\n",
    "# we see distribution of preactivations take numbers between -15 to 15\n",
    "# this is why everything is between -1 to 1, why so many values take on extreme values\n",
    "\n",
    "# why is this an issue?\n",
    "# if you have an intuitive sense of how these gradients flow thorugh the network\n",
    "# during backprop - you are flowing through the loss backwards\n",
    "# propagate through tanh, 200 neurons for each example\n",
    "# implements tanh backward pass is \n",
    "# tanh(self):\n",
    "# x = self.data\n",
    "# def backward\n",
    "    # (1 - t**2) * out.grad # t squaredi\n",
    "    # if t is 1 or t is -1, out.grad essentially STOPs\n",
    "    # if output is very close to 1 or -1, then changing input\n",
    "    # basically doesn't impact the output of tanh because it's in\n",
    "    # the flat area of the loss.\n",
    "    # the weights and biases don't impact loss and there is no influence\n",
    "    # the gradient **vanishes**\n",
    "    # when t is 0, out.grad is passed through\n",
    "    # the more you are in the flat tails, the more the gradient is squashed\n",
    "    # the amount it decreases is proportional to square \n",
    "\n",
    "# so the concern is if all the outputs are in the flat area\n",
    "# the gradients that are flowing through the network will get destroyed at this layer.\n",
    "\n"
   ]
  }
 ],
 "metadata": {
  "kernelspec": {
   "display_name": "base",
   "language": "python",
   "name": "python3"
  },
  "language_info": {
   "codemirror_mode": {
    "name": "ipython",
    "version": 3
   },
   "file_extension": ".py",
   "mimetype": "text/x-python",
   "name": "python",
   "nbconvert_exporter": "python",
   "pygments_lexer": "ipython3",
   "version": "3.10.14"
  }
 },
 "nbformat": 4,
 "nbformat_minor": 2
}
